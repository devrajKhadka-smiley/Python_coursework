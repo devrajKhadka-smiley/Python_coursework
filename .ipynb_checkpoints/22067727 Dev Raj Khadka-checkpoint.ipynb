{
 "cells": [
  {
   "cell_type": "code",
   "execution_count": 36,
   "id": "bab9b391",
   "metadata": {},
   "outputs": [],
   "source": [
    "# Importing necessary libraries for data analysis and visualization\n",
    "import numpy as np\n",
    "import pandas as pd           \n",
    "import matplotlib.pyplot as plt   \n",
    "import seaborn as sns "
   ]
  },
  {
   "cell_type": "markdown",
   "id": "942c370e",
   "metadata": {},
   "source": [
    "# Data Preparation"
   ]
  },
  {
   "cell_type": "markdown",
   "id": "406ea7b2",
   "metadata": {},
   "source": [
    "## Write a python program to load data into pandas DataFrame"
   ]
  },
  {
   "cell_type": "code",
   "execution_count": 37,
   "id": "ceac8666",
   "metadata": {},
   "outputs": [
    {
     "data": {
      "text/html": [
       "<div>\n",
       "<style scoped>\n",
       "    .dataframe tbody tr th:only-of-type {\n",
       "        vertical-align: middle;\n",
       "    }\n",
       "\n",
       "    .dataframe tbody tr th {\n",
       "        vertical-align: top;\n",
       "    }\n",
       "\n",
       "    .dataframe thead th {\n",
       "        text-align: right;\n",
       "    }\n",
       "</style>\n",
       "<table border=\"1\" class=\"dataframe\">\n",
       "  <thead>\n",
       "    <tr style=\"text-align: right;\">\n",
       "      <th></th>\n",
       "      <th>work_year</th>\n",
       "      <th>experience_level</th>\n",
       "      <th>employment_type</th>\n",
       "      <th>job_title</th>\n",
       "      <th>salary</th>\n",
       "      <th>salary_currency</th>\n",
       "      <th>salary_in_usd</th>\n",
       "      <th>employee_residence</th>\n",
       "      <th>remote_ratio</th>\n",
       "      <th>company_location</th>\n",
       "      <th>company_size</th>\n",
       "    </tr>\n",
       "  </thead>\n",
       "  <tbody>\n",
       "    <tr>\n",
       "      <th>0</th>\n",
       "      <td>2023</td>\n",
       "      <td>SE</td>\n",
       "      <td>FT</td>\n",
       "      <td>Principal Data Scientist</td>\n",
       "      <td>80000</td>\n",
       "      <td>EUR</td>\n",
       "      <td>85847</td>\n",
       "      <td>ES</td>\n",
       "      <td>100</td>\n",
       "      <td>ES</td>\n",
       "      <td>L</td>\n",
       "    </tr>\n",
       "    <tr>\n",
       "      <th>1</th>\n",
       "      <td>2023</td>\n",
       "      <td>MI</td>\n",
       "      <td>CT</td>\n",
       "      <td>ML Engineer</td>\n",
       "      <td>30000</td>\n",
       "      <td>USD</td>\n",
       "      <td>30000</td>\n",
       "      <td>US</td>\n",
       "      <td>100</td>\n",
       "      <td>US</td>\n",
       "      <td>S</td>\n",
       "    </tr>\n",
       "    <tr>\n",
       "      <th>2</th>\n",
       "      <td>2023</td>\n",
       "      <td>MI</td>\n",
       "      <td>CT</td>\n",
       "      <td>ML Engineer</td>\n",
       "      <td>25500</td>\n",
       "      <td>USD</td>\n",
       "      <td>25500</td>\n",
       "      <td>US</td>\n",
       "      <td>100</td>\n",
       "      <td>US</td>\n",
       "      <td>S</td>\n",
       "    </tr>\n",
       "    <tr>\n",
       "      <th>3</th>\n",
       "      <td>2023</td>\n",
       "      <td>SE</td>\n",
       "      <td>FT</td>\n",
       "      <td>Data Scientist</td>\n",
       "      <td>175000</td>\n",
       "      <td>USD</td>\n",
       "      <td>175000</td>\n",
       "      <td>CA</td>\n",
       "      <td>100</td>\n",
       "      <td>CA</td>\n",
       "      <td>M</td>\n",
       "    </tr>\n",
       "    <tr>\n",
       "      <th>4</th>\n",
       "      <td>2023</td>\n",
       "      <td>SE</td>\n",
       "      <td>FT</td>\n",
       "      <td>Data Scientist</td>\n",
       "      <td>120000</td>\n",
       "      <td>USD</td>\n",
       "      <td>120000</td>\n",
       "      <td>CA</td>\n",
       "      <td>100</td>\n",
       "      <td>CA</td>\n",
       "      <td>M</td>\n",
       "    </tr>\n",
       "    <tr>\n",
       "      <th>...</th>\n",
       "      <td>...</td>\n",
       "      <td>...</td>\n",
       "      <td>...</td>\n",
       "      <td>...</td>\n",
       "      <td>...</td>\n",
       "      <td>...</td>\n",
       "      <td>...</td>\n",
       "      <td>...</td>\n",
       "      <td>...</td>\n",
       "      <td>...</td>\n",
       "      <td>...</td>\n",
       "    </tr>\n",
       "    <tr>\n",
       "      <th>3750</th>\n",
       "      <td>2020</td>\n",
       "      <td>SE</td>\n",
       "      <td>FT</td>\n",
       "      <td>Data Scientist</td>\n",
       "      <td>412000</td>\n",
       "      <td>USD</td>\n",
       "      <td>412000</td>\n",
       "      <td>US</td>\n",
       "      <td>100</td>\n",
       "      <td>US</td>\n",
       "      <td>L</td>\n",
       "    </tr>\n",
       "    <tr>\n",
       "      <th>3751</th>\n",
       "      <td>2021</td>\n",
       "      <td>MI</td>\n",
       "      <td>FT</td>\n",
       "      <td>Principal Data Scientist</td>\n",
       "      <td>151000</td>\n",
       "      <td>USD</td>\n",
       "      <td>151000</td>\n",
       "      <td>US</td>\n",
       "      <td>100</td>\n",
       "      <td>US</td>\n",
       "      <td>L</td>\n",
       "    </tr>\n",
       "    <tr>\n",
       "      <th>3752</th>\n",
       "      <td>2020</td>\n",
       "      <td>EN</td>\n",
       "      <td>FT</td>\n",
       "      <td>Data Scientist</td>\n",
       "      <td>105000</td>\n",
       "      <td>USD</td>\n",
       "      <td>105000</td>\n",
       "      <td>US</td>\n",
       "      <td>100</td>\n",
       "      <td>US</td>\n",
       "      <td>S</td>\n",
       "    </tr>\n",
       "    <tr>\n",
       "      <th>3753</th>\n",
       "      <td>2020</td>\n",
       "      <td>EN</td>\n",
       "      <td>CT</td>\n",
       "      <td>Business Data Analyst</td>\n",
       "      <td>100000</td>\n",
       "      <td>USD</td>\n",
       "      <td>100000</td>\n",
       "      <td>US</td>\n",
       "      <td>100</td>\n",
       "      <td>US</td>\n",
       "      <td>L</td>\n",
       "    </tr>\n",
       "    <tr>\n",
       "      <th>3754</th>\n",
       "      <td>2021</td>\n",
       "      <td>SE</td>\n",
       "      <td>FT</td>\n",
       "      <td>Data Science Manager</td>\n",
       "      <td>7000000</td>\n",
       "      <td>INR</td>\n",
       "      <td>94665</td>\n",
       "      <td>IN</td>\n",
       "      <td>50</td>\n",
       "      <td>IN</td>\n",
       "      <td>L</td>\n",
       "    </tr>\n",
       "  </tbody>\n",
       "</table>\n",
       "<p>3755 rows × 11 columns</p>\n",
       "</div>"
      ],
      "text/plain": [
       "      work_year experience_level employment_type                 job_title  \\\n",
       "0          2023               SE              FT  Principal Data Scientist   \n",
       "1          2023               MI              CT               ML Engineer   \n",
       "2          2023               MI              CT               ML Engineer   \n",
       "3          2023               SE              FT            Data Scientist   \n",
       "4          2023               SE              FT            Data Scientist   \n",
       "...         ...              ...             ...                       ...   \n",
       "3750       2020               SE              FT            Data Scientist   \n",
       "3751       2021               MI              FT  Principal Data Scientist   \n",
       "3752       2020               EN              FT            Data Scientist   \n",
       "3753       2020               EN              CT     Business Data Analyst   \n",
       "3754       2021               SE              FT      Data Science Manager   \n",
       "\n",
       "       salary salary_currency  salary_in_usd employee_residence  remote_ratio  \\\n",
       "0       80000             EUR          85847                 ES           100   \n",
       "1       30000             USD          30000                 US           100   \n",
       "2       25500             USD          25500                 US           100   \n",
       "3      175000             USD         175000                 CA           100   \n",
       "4      120000             USD         120000                 CA           100   \n",
       "...       ...             ...            ...                ...           ...   \n",
       "3750   412000             USD         412000                 US           100   \n",
       "3751   151000             USD         151000                 US           100   \n",
       "3752   105000             USD         105000                 US           100   \n",
       "3753   100000             USD         100000                 US           100   \n",
       "3754  7000000             INR          94665                 IN            50   \n",
       "\n",
       "     company_location company_size  \n",
       "0                  ES            L  \n",
       "1                  US            S  \n",
       "2                  US            S  \n",
       "3                  CA            M  \n",
       "4                  CA            M  \n",
       "...               ...          ...  \n",
       "3750               US            L  \n",
       "3751               US            L  \n",
       "3752               US            S  \n",
       "3753               US            L  \n",
       "3754               IN            L  \n",
       "\n",
       "[3755 rows x 11 columns]"
      ]
     },
     "execution_count": 37,
     "metadata": {},
     "output_type": "execute_result"
    }
   ],
   "source": [
    "# Reading the dataset from a CSV file named \"datascience.csv\" into a Pandas DataFrame called df\n",
    "df = pd.read_csv(\"datascience.csv\")\n",
    "df"
   ]
  },
  {
   "cell_type": "code",
   "execution_count": 38,
   "id": "b4ddfc4c",
   "metadata": {},
   "outputs": [
    {
     "name": "stdout",
     "output_type": "stream",
     "text": [
      "<class 'pandas.core.frame.DataFrame'>\n",
      "RangeIndex: 3755 entries, 0 to 3754\n",
      "Data columns (total 11 columns):\n",
      " #   Column              Non-Null Count  Dtype \n",
      "---  ------              --------------  ----- \n",
      " 0   work_year           3755 non-null   int64 \n",
      " 1   experience_level    3755 non-null   object\n",
      " 2   employment_type     3755 non-null   object\n",
      " 3   job_title           3755 non-null   object\n",
      " 4   salary              3755 non-null   int64 \n",
      " 5   salary_currency     3755 non-null   object\n",
      " 6   salary_in_usd       3755 non-null   int64 \n",
      " 7   employee_residence  3755 non-null   object\n",
      " 8   remote_ratio        3755 non-null   int64 \n",
      " 9   company_location    3755 non-null   object\n",
      " 10  company_size        3755 non-null   object\n",
      "dtypes: int64(4), object(7)\n",
      "memory usage: 322.8+ KB\n"
     ]
    }
   ],
   "source": [
    "# Displaying information about the DataFrame df\n",
    "df.info()"
   ]
  },
  {
   "cell_type": "markdown",
   "id": "36a51b66",
   "metadata": {},
   "source": [
    "## Write a python program to remove unnecessary columns i.e., salary  and salary currency"
   ]
  },
  {
   "cell_type": "code",
   "execution_count": 39,
   "id": "670c6e4a",
   "metadata": {},
   "outputs": [],
   "source": [
    "# Removing unnecessary columns \"salary\" and \"salary_currency\" from the DataFrame\n",
    "unnecessary_columns = [\"salary\", \"salary_currency\"]\n",
    "df.drop(columns=unnecessary_columns, inplace=True)"
   ]
  },
  {
   "cell_type": "code",
   "execution_count": 40,
   "id": "3f2670cd",
   "metadata": {},
   "outputs": [
    {
     "data": {
      "text/html": [
       "<div>\n",
       "<style scoped>\n",
       "    .dataframe tbody tr th:only-of-type {\n",
       "        vertical-align: middle;\n",
       "    }\n",
       "\n",
       "    .dataframe tbody tr th {\n",
       "        vertical-align: top;\n",
       "    }\n",
       "\n",
       "    .dataframe thead th {\n",
       "        text-align: right;\n",
       "    }\n",
       "</style>\n",
       "<table border=\"1\" class=\"dataframe\">\n",
       "  <thead>\n",
       "    <tr style=\"text-align: right;\">\n",
       "      <th></th>\n",
       "      <th>work_year</th>\n",
       "      <th>experience_level</th>\n",
       "      <th>employment_type</th>\n",
       "      <th>job_title</th>\n",
       "      <th>salary_in_usd</th>\n",
       "      <th>employee_residence</th>\n",
       "      <th>remote_ratio</th>\n",
       "      <th>company_location</th>\n",
       "      <th>company_size</th>\n",
       "    </tr>\n",
       "  </thead>\n",
       "  <tbody>\n",
       "    <tr>\n",
       "      <th>0</th>\n",
       "      <td>2023</td>\n",
       "      <td>SE</td>\n",
       "      <td>FT</td>\n",
       "      <td>Principal Data Scientist</td>\n",
       "      <td>85847</td>\n",
       "      <td>ES</td>\n",
       "      <td>100</td>\n",
       "      <td>ES</td>\n",
       "      <td>L</td>\n",
       "    </tr>\n",
       "    <tr>\n",
       "      <th>1</th>\n",
       "      <td>2023</td>\n",
       "      <td>MI</td>\n",
       "      <td>CT</td>\n",
       "      <td>ML Engineer</td>\n",
       "      <td>30000</td>\n",
       "      <td>US</td>\n",
       "      <td>100</td>\n",
       "      <td>US</td>\n",
       "      <td>S</td>\n",
       "    </tr>\n",
       "    <tr>\n",
       "      <th>2</th>\n",
       "      <td>2023</td>\n",
       "      <td>MI</td>\n",
       "      <td>CT</td>\n",
       "      <td>ML Engineer</td>\n",
       "      <td>25500</td>\n",
       "      <td>US</td>\n",
       "      <td>100</td>\n",
       "      <td>US</td>\n",
       "      <td>S</td>\n",
       "    </tr>\n",
       "    <tr>\n",
       "      <th>3</th>\n",
       "      <td>2023</td>\n",
       "      <td>SE</td>\n",
       "      <td>FT</td>\n",
       "      <td>Data Scientist</td>\n",
       "      <td>175000</td>\n",
       "      <td>CA</td>\n",
       "      <td>100</td>\n",
       "      <td>CA</td>\n",
       "      <td>M</td>\n",
       "    </tr>\n",
       "    <tr>\n",
       "      <th>4</th>\n",
       "      <td>2023</td>\n",
       "      <td>SE</td>\n",
       "      <td>FT</td>\n",
       "      <td>Data Scientist</td>\n",
       "      <td>120000</td>\n",
       "      <td>CA</td>\n",
       "      <td>100</td>\n",
       "      <td>CA</td>\n",
       "      <td>M</td>\n",
       "    </tr>\n",
       "    <tr>\n",
       "      <th>...</th>\n",
       "      <td>...</td>\n",
       "      <td>...</td>\n",
       "      <td>...</td>\n",
       "      <td>...</td>\n",
       "      <td>...</td>\n",
       "      <td>...</td>\n",
       "      <td>...</td>\n",
       "      <td>...</td>\n",
       "      <td>...</td>\n",
       "    </tr>\n",
       "    <tr>\n",
       "      <th>3750</th>\n",
       "      <td>2020</td>\n",
       "      <td>SE</td>\n",
       "      <td>FT</td>\n",
       "      <td>Data Scientist</td>\n",
       "      <td>412000</td>\n",
       "      <td>US</td>\n",
       "      <td>100</td>\n",
       "      <td>US</td>\n",
       "      <td>L</td>\n",
       "    </tr>\n",
       "    <tr>\n",
       "      <th>3751</th>\n",
       "      <td>2021</td>\n",
       "      <td>MI</td>\n",
       "      <td>FT</td>\n",
       "      <td>Principal Data Scientist</td>\n",
       "      <td>151000</td>\n",
       "      <td>US</td>\n",
       "      <td>100</td>\n",
       "      <td>US</td>\n",
       "      <td>L</td>\n",
       "    </tr>\n",
       "    <tr>\n",
       "      <th>3752</th>\n",
       "      <td>2020</td>\n",
       "      <td>EN</td>\n",
       "      <td>FT</td>\n",
       "      <td>Data Scientist</td>\n",
       "      <td>105000</td>\n",
       "      <td>US</td>\n",
       "      <td>100</td>\n",
       "      <td>US</td>\n",
       "      <td>S</td>\n",
       "    </tr>\n",
       "    <tr>\n",
       "      <th>3753</th>\n",
       "      <td>2020</td>\n",
       "      <td>EN</td>\n",
       "      <td>CT</td>\n",
       "      <td>Business Data Analyst</td>\n",
       "      <td>100000</td>\n",
       "      <td>US</td>\n",
       "      <td>100</td>\n",
       "      <td>US</td>\n",
       "      <td>L</td>\n",
       "    </tr>\n",
       "    <tr>\n",
       "      <th>3754</th>\n",
       "      <td>2021</td>\n",
       "      <td>SE</td>\n",
       "      <td>FT</td>\n",
       "      <td>Data Science Manager</td>\n",
       "      <td>94665</td>\n",
       "      <td>IN</td>\n",
       "      <td>50</td>\n",
       "      <td>IN</td>\n",
       "      <td>L</td>\n",
       "    </tr>\n",
       "  </tbody>\n",
       "</table>\n",
       "<p>3755 rows × 9 columns</p>\n",
       "</div>"
      ],
      "text/plain": [
       "      work_year experience_level employment_type                 job_title  \\\n",
       "0          2023               SE              FT  Principal Data Scientist   \n",
       "1          2023               MI              CT               ML Engineer   \n",
       "2          2023               MI              CT               ML Engineer   \n",
       "3          2023               SE              FT            Data Scientist   \n",
       "4          2023               SE              FT            Data Scientist   \n",
       "...         ...              ...             ...                       ...   \n",
       "3750       2020               SE              FT            Data Scientist   \n",
       "3751       2021               MI              FT  Principal Data Scientist   \n",
       "3752       2020               EN              FT            Data Scientist   \n",
       "3753       2020               EN              CT     Business Data Analyst   \n",
       "3754       2021               SE              FT      Data Science Manager   \n",
       "\n",
       "      salary_in_usd employee_residence  remote_ratio company_location  \\\n",
       "0             85847                 ES           100               ES   \n",
       "1             30000                 US           100               US   \n",
       "2             25500                 US           100               US   \n",
       "3            175000                 CA           100               CA   \n",
       "4            120000                 CA           100               CA   \n",
       "...             ...                ...           ...              ...   \n",
       "3750         412000                 US           100               US   \n",
       "3751         151000                 US           100               US   \n",
       "3752         105000                 US           100               US   \n",
       "3753         100000                 US           100               US   \n",
       "3754          94665                 IN            50               IN   \n",
       "\n",
       "     company_size  \n",
       "0               L  \n",
       "1               S  \n",
       "2               S  \n",
       "3               M  \n",
       "4               M  \n",
       "...           ...  \n",
       "3750            L  \n",
       "3751            L  \n",
       "3752            S  \n",
       "3753            L  \n",
       "3754            L  \n",
       "\n",
       "[3755 rows x 9 columns]"
      ]
     },
     "execution_count": 40,
     "metadata": {},
     "output_type": "execute_result"
    }
   ],
   "source": [
    "df"
   ]
  },
  {
   "cell_type": "markdown",
   "id": "f4d6dc3e",
   "metadata": {},
   "source": [
    "###### \"Salary\" and \"salary_currency\" removed"
   ]
  },
  {
   "cell_type": "markdown",
   "id": "47766ec6",
   "metadata": {},
   "source": [
    "## Write a python program to remove the NaN missing values from updated dataframe."
   ]
  },
  {
   "cell_type": "code",
   "execution_count": 41,
   "id": "8c4a8194",
   "metadata": {},
   "outputs": [
    {
     "data": {
      "text/html": [
       "<div>\n",
       "<style scoped>\n",
       "    .dataframe tbody tr th:only-of-type {\n",
       "        vertical-align: middle;\n",
       "    }\n",
       "\n",
       "    .dataframe tbody tr th {\n",
       "        vertical-align: top;\n",
       "    }\n",
       "\n",
       "    .dataframe thead th {\n",
       "        text-align: right;\n",
       "    }\n",
       "</style>\n",
       "<table border=\"1\" class=\"dataframe\">\n",
       "  <thead>\n",
       "    <tr style=\"text-align: right;\">\n",
       "      <th></th>\n",
       "      <th>work_year</th>\n",
       "      <th>experience_level</th>\n",
       "      <th>employment_type</th>\n",
       "      <th>job_title</th>\n",
       "      <th>salary_in_usd</th>\n",
       "      <th>employee_residence</th>\n",
       "      <th>remote_ratio</th>\n",
       "      <th>company_location</th>\n",
       "      <th>company_size</th>\n",
       "    </tr>\n",
       "  </thead>\n",
       "  <tbody>\n",
       "    <tr>\n",
       "      <th>0</th>\n",
       "      <td>NaN</td>\n",
       "      <td>NaN</td>\n",
       "      <td>NaN</td>\n",
       "      <td>NaN</td>\n",
       "      <td>NaN</td>\n",
       "      <td>NaN</td>\n",
       "      <td>NaN</td>\n",
       "      <td>NaN</td>\n",
       "      <td>NaN</td>\n",
       "    </tr>\n",
       "    <tr>\n",
       "      <th>1</th>\n",
       "      <td>NaN</td>\n",
       "      <td>NaN</td>\n",
       "      <td>NaN</td>\n",
       "      <td>NaN</td>\n",
       "      <td>NaN</td>\n",
       "      <td>NaN</td>\n",
       "      <td>NaN</td>\n",
       "      <td>NaN</td>\n",
       "      <td>NaN</td>\n",
       "    </tr>\n",
       "    <tr>\n",
       "      <th>2</th>\n",
       "      <td>NaN</td>\n",
       "      <td>NaN</td>\n",
       "      <td>NaN</td>\n",
       "      <td>NaN</td>\n",
       "      <td>NaN</td>\n",
       "      <td>NaN</td>\n",
       "      <td>NaN</td>\n",
       "      <td>NaN</td>\n",
       "      <td>NaN</td>\n",
       "    </tr>\n",
       "    <tr>\n",
       "      <th>3</th>\n",
       "      <td>NaN</td>\n",
       "      <td>NaN</td>\n",
       "      <td>NaN</td>\n",
       "      <td>NaN</td>\n",
       "      <td>NaN</td>\n",
       "      <td>NaN</td>\n",
       "      <td>NaN</td>\n",
       "      <td>NaN</td>\n",
       "      <td>NaN</td>\n",
       "    </tr>\n",
       "    <tr>\n",
       "      <th>4</th>\n",
       "      <td>NaN</td>\n",
       "      <td>NaN</td>\n",
       "      <td>NaN</td>\n",
       "      <td>NaN</td>\n",
       "      <td>NaN</td>\n",
       "      <td>NaN</td>\n",
       "      <td>NaN</td>\n",
       "      <td>NaN</td>\n",
       "      <td>NaN</td>\n",
       "    </tr>\n",
       "    <tr>\n",
       "      <th>...</th>\n",
       "      <td>...</td>\n",
       "      <td>...</td>\n",
       "      <td>...</td>\n",
       "      <td>...</td>\n",
       "      <td>...</td>\n",
       "      <td>...</td>\n",
       "      <td>...</td>\n",
       "      <td>...</td>\n",
       "      <td>...</td>\n",
       "    </tr>\n",
       "    <tr>\n",
       "      <th>3750</th>\n",
       "      <td>NaN</td>\n",
       "      <td>NaN</td>\n",
       "      <td>NaN</td>\n",
       "      <td>NaN</td>\n",
       "      <td>NaN</td>\n",
       "      <td>NaN</td>\n",
       "      <td>NaN</td>\n",
       "      <td>NaN</td>\n",
       "      <td>NaN</td>\n",
       "    </tr>\n",
       "    <tr>\n",
       "      <th>3751</th>\n",
       "      <td>NaN</td>\n",
       "      <td>NaN</td>\n",
       "      <td>NaN</td>\n",
       "      <td>NaN</td>\n",
       "      <td>NaN</td>\n",
       "      <td>NaN</td>\n",
       "      <td>NaN</td>\n",
       "      <td>NaN</td>\n",
       "      <td>NaN</td>\n",
       "    </tr>\n",
       "    <tr>\n",
       "      <th>3752</th>\n",
       "      <td>NaN</td>\n",
       "      <td>NaN</td>\n",
       "      <td>NaN</td>\n",
       "      <td>NaN</td>\n",
       "      <td>NaN</td>\n",
       "      <td>NaN</td>\n",
       "      <td>NaN</td>\n",
       "      <td>NaN</td>\n",
       "      <td>NaN</td>\n",
       "    </tr>\n",
       "    <tr>\n",
       "      <th>3753</th>\n",
       "      <td>NaN</td>\n",
       "      <td>NaN</td>\n",
       "      <td>NaN</td>\n",
       "      <td>NaN</td>\n",
       "      <td>NaN</td>\n",
       "      <td>NaN</td>\n",
       "      <td>NaN</td>\n",
       "      <td>NaN</td>\n",
       "      <td>NaN</td>\n",
       "    </tr>\n",
       "    <tr>\n",
       "      <th>3754</th>\n",
       "      <td>NaN</td>\n",
       "      <td>NaN</td>\n",
       "      <td>NaN</td>\n",
       "      <td>NaN</td>\n",
       "      <td>NaN</td>\n",
       "      <td>NaN</td>\n",
       "      <td>NaN</td>\n",
       "      <td>NaN</td>\n",
       "      <td>NaN</td>\n",
       "    </tr>\n",
       "  </tbody>\n",
       "</table>\n",
       "<p>3755 rows × 9 columns</p>\n",
       "</div>"
      ],
      "text/plain": [
       "      work_year experience_level employment_type job_title  salary_in_usd  \\\n",
       "0           NaN              NaN             NaN       NaN            NaN   \n",
       "1           NaN              NaN             NaN       NaN            NaN   \n",
       "2           NaN              NaN             NaN       NaN            NaN   \n",
       "3           NaN              NaN             NaN       NaN            NaN   \n",
       "4           NaN              NaN             NaN       NaN            NaN   \n",
       "...         ...              ...             ...       ...            ...   \n",
       "3750        NaN              NaN             NaN       NaN            NaN   \n",
       "3751        NaN              NaN             NaN       NaN            NaN   \n",
       "3752        NaN              NaN             NaN       NaN            NaN   \n",
       "3753        NaN              NaN             NaN       NaN            NaN   \n",
       "3754        NaN              NaN             NaN       NaN            NaN   \n",
       "\n",
       "     employee_residence  remote_ratio company_location company_size  \n",
       "0                   NaN           NaN              NaN          NaN  \n",
       "1                   NaN           NaN              NaN          NaN  \n",
       "2                   NaN           NaN              NaN          NaN  \n",
       "3                   NaN           NaN              NaN          NaN  \n",
       "4                   NaN           NaN              NaN          NaN  \n",
       "...                 ...           ...              ...          ...  \n",
       "3750                NaN           NaN              NaN          NaN  \n",
       "3751                NaN           NaN              NaN          NaN  \n",
       "3752                NaN           NaN              NaN          NaN  \n",
       "3753                NaN           NaN              NaN          NaN  \n",
       "3754                NaN           NaN              NaN          NaN  \n",
       "\n",
       "[3755 rows x 9 columns]"
      ]
     },
     "execution_count": 41,
     "metadata": {},
     "output_type": "execute_result"
    }
   ],
   "source": [
    "#displays the rows where each cell is null in the DataFrame df\n",
    "df[df.isnull()]"
   ]
  },
  {
   "cell_type": "code",
   "execution_count": 42,
   "id": "a29d85ad",
   "metadata": {},
   "outputs": [
    {
     "name": "stdout",
     "output_type": "stream",
     "text": [
      "No Null Value\n"
     ]
    }
   ],
   "source": [
    "if df.isnull().sum().sum():\n",
    "    print(\"someWhere is Empty\")\n",
    "else:\n",
    "    print(\"No Null Value\")"
   ]
  },
  {
   "cell_type": "markdown",
   "id": "c8e74f37",
   "metadata": {},
   "source": [
    "###### No Null/Empty Value is Found"
   ]
  },
  {
   "cell_type": "markdown",
   "id": "b7824776",
   "metadata": {},
   "source": [
    "## Write a python program to check duplicates value in the dataframe"
   ]
  },
  {
   "cell_type": "code",
   "execution_count": 43,
   "id": "c17ddb99",
   "metadata": {},
   "outputs": [
    {
     "data": {
      "text/plain": [
       "0       False\n",
       "1       False\n",
       "2       False\n",
       "3       False\n",
       "4       False\n",
       "        ...  \n",
       "3750    False\n",
       "3751    False\n",
       "3752    False\n",
       "3753    False\n",
       "3754    False\n",
       "Length: 3755, dtype: bool"
      ]
     },
     "execution_count": 43,
     "metadata": {},
     "output_type": "execute_result"
    }
   ],
   "source": [
    "#displays the rows where each cell is duplicated in the DataFrame df\n",
    "df[df.duplicated()]"
   ]
  },
  {
   "cell_type": "markdown",
   "id": "f1b7f48c",
   "metadata": {},
   "source": [
    "###### No Duplicated value is Found"
   ]
  },
  {
   "cell_type": "markdown",
   "id": "961bb54a",
   "metadata": {},
   "source": [
    "## Write a python program to see the unique values from all the columns in the dataframe"
   ]
  },
  {
   "cell_type": "code",
   "execution_count": 44,
   "id": "a1222700",
   "metadata": {},
   "outputs": [
    {
     "data": {
      "text/plain": [
       "Index(['work_year', 'experience_level', 'employment_type', 'job_title',\n",
       "       'salary_in_usd', 'employee_residence', 'remote_ratio',\n",
       "       'company_location', 'company_size'],\n",
       "      dtype='object')"
      ]
     },
     "execution_count": 44,
     "metadata": {},
     "output_type": "execute_result"
    }
   ],
   "source": [
    "# Returns the unique column names in the DataFrame df\n",
    "df.columns.unique()"
   ]
  },
  {
   "cell_type": "code",
   "execution_count": 45,
   "id": "c9a38345",
   "metadata": {},
   "outputs": [
    {
     "data": {
      "text/plain": [
       "array(['SE', 'MI', 'EN', 'EX'], dtype=object)"
      ]
     },
     "execution_count": 45,
     "metadata": {},
     "output_type": "execute_result"
    }
   ],
   "source": [
    "# Returns the unique values in the 'experience_level' column of the DataFrame df\n",
    "df['experience_level'].unique()"
   ]
  },
  {
   "cell_type": "code",
   "execution_count": 46,
   "id": "d5765659",
   "metadata": {},
   "outputs": [
    {
     "data": {
      "text/plain": [
       "array([2023, 2022, 2020, 2021], dtype=int64)"
      ]
     },
     "execution_count": 46,
     "metadata": {},
     "output_type": "execute_result"
    }
   ],
   "source": [
    "# Returns the unique values in the 'work_year' column of the DataFrame df\n",
    "df['work_year'].unique()"
   ]
  },
  {
   "cell_type": "code",
   "execution_count": 47,
   "id": "b206abd0",
   "metadata": {},
   "outputs": [
    {
     "data": {
      "text/plain": [
       "array(['FT', 'CT', 'FL', 'PT'], dtype=object)"
      ]
     },
     "execution_count": 47,
     "metadata": {},
     "output_type": "execute_result"
    }
   ],
   "source": [
    "# Returns the unique values in the 'employment_type' column of the DataFrame df\n",
    "df['employment_type'].unique()"
   ]
  },
  {
   "cell_type": "code",
   "execution_count": 48,
   "id": "49f2e145",
   "metadata": {},
   "outputs": [
    {
     "data": {
      "text/plain": [
       "array(['Principal Data Scientist', 'ML Engineer', 'Data Scientist',\n",
       "       'Applied Scientist', 'Data Analyst', 'Data Modeler',\n",
       "       'Research Engineer', 'Analytics Engineer',\n",
       "       'Business Intelligence Engineer', 'Machine Learning Engineer',\n",
       "       'Data Strategist', 'Data Engineer', 'Computer Vision Engineer',\n",
       "       'Data Quality Analyst', 'Compliance Data Analyst',\n",
       "       'Data Architect', 'Applied Machine Learning Engineer',\n",
       "       'AI Developer', 'Research Scientist', 'Data Analytics Manager',\n",
       "       'Business Data Analyst', 'Applied Data Scientist',\n",
       "       'Staff Data Analyst', 'ETL Engineer', 'Data DevOps Engineer',\n",
       "       'Head of Data', 'Data Science Manager', 'Data Manager',\n",
       "       'Machine Learning Researcher', 'Big Data Engineer',\n",
       "       'Data Specialist', 'Lead Data Analyst', 'BI Data Engineer',\n",
       "       'Director of Data Science', 'Machine Learning Scientist',\n",
       "       'MLOps Engineer', 'AI Scientist', 'Autonomous Vehicle Technician',\n",
       "       'Applied Machine Learning Scientist', 'Lead Data Scientist',\n",
       "       'Cloud Database Engineer', 'Financial Data Analyst',\n",
       "       'Data Infrastructure Engineer', 'Software Data Engineer',\n",
       "       'AI Programmer', 'Data Operations Engineer', 'BI Developer',\n",
       "       'Data Science Lead', 'Deep Learning Researcher', 'BI Analyst',\n",
       "       'Data Science Consultant', 'Data Analytics Specialist',\n",
       "       'Machine Learning Infrastructure Engineer', 'BI Data Analyst',\n",
       "       'Head of Data Science', 'Insight Analyst',\n",
       "       'Deep Learning Engineer', 'Machine Learning Software Engineer',\n",
       "       'Big Data Architect', 'Product Data Analyst',\n",
       "       'Computer Vision Software Engineer', 'Azure Data Engineer',\n",
       "       'Marketing Data Engineer', 'Data Analytics Lead', 'Data Lead',\n",
       "       'Data Science Engineer', 'Machine Learning Research Engineer',\n",
       "       'NLP Engineer', 'Manager Data Management',\n",
       "       'Machine Learning Developer', '3D Computer Vision Researcher',\n",
       "       'Principal Machine Learning Engineer', 'Data Analytics Engineer',\n",
       "       'Data Analytics Consultant', 'Data Management Specialist',\n",
       "       'Data Science Tech Lead', 'Data Scientist Lead',\n",
       "       'Cloud Data Engineer', 'Data Operations Analyst',\n",
       "       'Marketing Data Analyst', 'Power BI Developer',\n",
       "       'Product Data Scientist', 'Principal Data Architect',\n",
       "       'Machine Learning Manager', 'Lead Machine Learning Engineer',\n",
       "       'ETL Developer', 'Cloud Data Architect', 'Lead Data Engineer',\n",
       "       'Head of Machine Learning', 'Principal Data Analyst',\n",
       "       'Principal Data Engineer', 'Staff Data Scientist',\n",
       "       'Finance Data Analyst'], dtype=object)"
      ]
     },
     "execution_count": 48,
     "metadata": {},
     "output_type": "execute_result"
    }
   ],
   "source": [
    "# Returns the unique values in the 'job_title' column of the DataFrame df\n",
    "df['job_title'].unique()"
   ]
  },
  {
   "cell_type": "code",
   "execution_count": 49,
   "id": "9e69d63b",
   "metadata": {},
   "outputs": [
    {
     "data": {
      "text/plain": [
       "array(['ES', 'US', 'CA', 'DE', 'GB', 'NG', 'IN', 'HK', 'PT', 'NL', 'CH',\n",
       "       'CF', 'FR', 'AU', 'FI', 'UA', 'IE', 'IL', 'GH', 'AT', 'CO', 'SG',\n",
       "       'SE', 'SI', 'MX', 'UZ', 'BR', 'TH', 'HR', 'PL', 'KW', 'VN', 'CY',\n",
       "       'AR', 'AM', 'BA', 'KE', 'GR', 'MK', 'LV', 'RO', 'PK', 'IT', 'MA',\n",
       "       'LT', 'BE', 'AS', 'IR', 'HU', 'SK', 'CN', 'CZ', 'CR', 'TR', 'CL',\n",
       "       'PR', 'DK', 'BO', 'PH', 'DO', 'EG', 'ID', 'AE', 'MY', 'JP', 'EE',\n",
       "       'HN', 'TN', 'RU', 'DZ', 'IQ', 'BG', 'JE', 'RS', 'NZ', 'MD', 'LU',\n",
       "       'MT'], dtype=object)"
      ]
     },
     "execution_count": 49,
     "metadata": {},
     "output_type": "execute_result"
    }
   ],
   "source": [
    "# Returns the unique values in the 'employee_residence' column of the DataFrame df\n",
    "df['employee_residence'].unique()"
   ]
  },
  {
   "cell_type": "code",
   "execution_count": 50,
   "id": "4a71eeb6",
   "metadata": {},
   "outputs": [
    {
     "data": {
      "text/plain": [
       "array([100,   0,  50], dtype=int64)"
      ]
     },
     "execution_count": 50,
     "metadata": {},
     "output_type": "execute_result"
    }
   ],
   "source": [
    "# Returns the unique values in the 'remote_ratio' column of the DataFrame df\n",
    "df['remote_ratio'].unique()"
   ]
  },
  {
   "cell_type": "code",
   "execution_count": 51,
   "id": "74e0dee9",
   "metadata": {},
   "outputs": [
    {
     "data": {
      "text/plain": [
       "array(['ES', 'US', 'CA', 'DE', 'GB', 'NG', 'IN', 'HK', 'NL', 'CH', 'CF',\n",
       "       'FR', 'FI', 'UA', 'IE', 'IL', 'GH', 'CO', 'SG', 'AU', 'SE', 'SI',\n",
       "       'MX', 'BR', 'PT', 'RU', 'TH', 'HR', 'VN', 'EE', 'AM', 'BA', 'KE',\n",
       "       'GR', 'MK', 'LV', 'RO', 'PK', 'IT', 'MA', 'PL', 'AL', 'AR', 'LT',\n",
       "       'AS', 'CR', 'IR', 'BS', 'HU', 'AT', 'SK', 'CZ', 'TR', 'PR', 'DK',\n",
       "       'BO', 'PH', 'BE', 'ID', 'EG', 'AE', 'LU', 'MY', 'HN', 'JP', 'DZ',\n",
       "       'IQ', 'CN', 'NZ', 'CL', 'MD', 'MT'], dtype=object)"
      ]
     },
     "execution_count": 51,
     "metadata": {},
     "output_type": "execute_result"
    }
   ],
   "source": [
    "# Returns the unique values in the 'company_location' column of the DataFrame df\n",
    "df['company_location'].unique()"
   ]
  },
  {
   "cell_type": "markdown",
   "id": "694b2d5e",
   "metadata": {},
   "source": [
    "###### All the above unique values are from the individual rows"
   ]
  },
  {
   "cell_type": "markdown",
   "id": "63a5c039",
   "metadata": {},
   "source": [
    "## Rename the experience level columns as below\n",
    "SE – Senior Level/Expert, MI – Medium Level/Intermediate, EN – Entry Level, EX – Executive Level"
   ]
  },
  {
   "cell_type": "code",
   "execution_count": 52,
   "id": "71cb8632",
   "metadata": {},
   "outputs": [
    {
     "data": {
      "text/html": [
       "<div>\n",
       "<style scoped>\n",
       "    .dataframe tbody tr th:only-of-type {\n",
       "        vertical-align: middle;\n",
       "    }\n",
       "\n",
       "    .dataframe tbody tr th {\n",
       "        vertical-align: top;\n",
       "    }\n",
       "\n",
       "    .dataframe thead th {\n",
       "        text-align: right;\n",
       "    }\n",
       "</style>\n",
       "<table border=\"1\" class=\"dataframe\">\n",
       "  <thead>\n",
       "    <tr style=\"text-align: right;\">\n",
       "      <th></th>\n",
       "      <th>work_year</th>\n",
       "      <th>experience_level</th>\n",
       "      <th>employment_type</th>\n",
       "      <th>job_title</th>\n",
       "      <th>salary_in_usd</th>\n",
       "      <th>employee_residence</th>\n",
       "      <th>remote_ratio</th>\n",
       "      <th>company_location</th>\n",
       "      <th>company_size</th>\n",
       "    </tr>\n",
       "  </thead>\n",
       "  <tbody>\n",
       "    <tr>\n",
       "      <th>0</th>\n",
       "      <td>2023</td>\n",
       "      <td>Senior Level/Expert</td>\n",
       "      <td>FT</td>\n",
       "      <td>Principal Data Scientist</td>\n",
       "      <td>85847</td>\n",
       "      <td>ES</td>\n",
       "      <td>100</td>\n",
       "      <td>ES</td>\n",
       "      <td>L</td>\n",
       "    </tr>\n",
       "    <tr>\n",
       "      <th>1</th>\n",
       "      <td>2023</td>\n",
       "      <td>Medium Level/Intermediate</td>\n",
       "      <td>CT</td>\n",
       "      <td>ML Engineer</td>\n",
       "      <td>30000</td>\n",
       "      <td>US</td>\n",
       "      <td>100</td>\n",
       "      <td>US</td>\n",
       "      <td>S</td>\n",
       "    </tr>\n",
       "    <tr>\n",
       "      <th>2</th>\n",
       "      <td>2023</td>\n",
       "      <td>Medium Level/Intermediate</td>\n",
       "      <td>CT</td>\n",
       "      <td>ML Engineer</td>\n",
       "      <td>25500</td>\n",
       "      <td>US</td>\n",
       "      <td>100</td>\n",
       "      <td>US</td>\n",
       "      <td>S</td>\n",
       "    </tr>\n",
       "    <tr>\n",
       "      <th>3</th>\n",
       "      <td>2023</td>\n",
       "      <td>Senior Level/Expert</td>\n",
       "      <td>FT</td>\n",
       "      <td>Data Scientist</td>\n",
       "      <td>175000</td>\n",
       "      <td>CA</td>\n",
       "      <td>100</td>\n",
       "      <td>CA</td>\n",
       "      <td>M</td>\n",
       "    </tr>\n",
       "    <tr>\n",
       "      <th>4</th>\n",
       "      <td>2023</td>\n",
       "      <td>Senior Level/Expert</td>\n",
       "      <td>FT</td>\n",
       "      <td>Data Scientist</td>\n",
       "      <td>120000</td>\n",
       "      <td>CA</td>\n",
       "      <td>100</td>\n",
       "      <td>CA</td>\n",
       "      <td>M</td>\n",
       "    </tr>\n",
       "    <tr>\n",
       "      <th>...</th>\n",
       "      <td>...</td>\n",
       "      <td>...</td>\n",
       "      <td>...</td>\n",
       "      <td>...</td>\n",
       "      <td>...</td>\n",
       "      <td>...</td>\n",
       "      <td>...</td>\n",
       "      <td>...</td>\n",
       "      <td>...</td>\n",
       "    </tr>\n",
       "    <tr>\n",
       "      <th>3750</th>\n",
       "      <td>2020</td>\n",
       "      <td>Senior Level/Expert</td>\n",
       "      <td>FT</td>\n",
       "      <td>Data Scientist</td>\n",
       "      <td>412000</td>\n",
       "      <td>US</td>\n",
       "      <td>100</td>\n",
       "      <td>US</td>\n",
       "      <td>L</td>\n",
       "    </tr>\n",
       "    <tr>\n",
       "      <th>3751</th>\n",
       "      <td>2021</td>\n",
       "      <td>Medium Level/Intermediate</td>\n",
       "      <td>FT</td>\n",
       "      <td>Principal Data Scientist</td>\n",
       "      <td>151000</td>\n",
       "      <td>US</td>\n",
       "      <td>100</td>\n",
       "      <td>US</td>\n",
       "      <td>L</td>\n",
       "    </tr>\n",
       "    <tr>\n",
       "      <th>3752</th>\n",
       "      <td>2020</td>\n",
       "      <td>Entry Level</td>\n",
       "      <td>FT</td>\n",
       "      <td>Data Scientist</td>\n",
       "      <td>105000</td>\n",
       "      <td>US</td>\n",
       "      <td>100</td>\n",
       "      <td>US</td>\n",
       "      <td>S</td>\n",
       "    </tr>\n",
       "    <tr>\n",
       "      <th>3753</th>\n",
       "      <td>2020</td>\n",
       "      <td>Entry Level</td>\n",
       "      <td>CT</td>\n",
       "      <td>Business Data Analyst</td>\n",
       "      <td>100000</td>\n",
       "      <td>US</td>\n",
       "      <td>100</td>\n",
       "      <td>US</td>\n",
       "      <td>L</td>\n",
       "    </tr>\n",
       "    <tr>\n",
       "      <th>3754</th>\n",
       "      <td>2021</td>\n",
       "      <td>Senior Level/Expert</td>\n",
       "      <td>FT</td>\n",
       "      <td>Data Science Manager</td>\n",
       "      <td>94665</td>\n",
       "      <td>IN</td>\n",
       "      <td>50</td>\n",
       "      <td>IN</td>\n",
       "      <td>L</td>\n",
       "    </tr>\n",
       "  </tbody>\n",
       "</table>\n",
       "<p>3755 rows × 9 columns</p>\n",
       "</div>"
      ],
      "text/plain": [
       "      work_year           experience_level employment_type  \\\n",
       "0          2023        Senior Level/Expert              FT   \n",
       "1          2023  Medium Level/Intermediate              CT   \n",
       "2          2023  Medium Level/Intermediate              CT   \n",
       "3          2023        Senior Level/Expert              FT   \n",
       "4          2023        Senior Level/Expert              FT   \n",
       "...         ...                        ...             ...   \n",
       "3750       2020        Senior Level/Expert              FT   \n",
       "3751       2021  Medium Level/Intermediate              FT   \n",
       "3752       2020                Entry Level              FT   \n",
       "3753       2020                Entry Level              CT   \n",
       "3754       2021        Senior Level/Expert              FT   \n",
       "\n",
       "                     job_title  salary_in_usd employee_residence  \\\n",
       "0     Principal Data Scientist          85847                 ES   \n",
       "1                  ML Engineer          30000                 US   \n",
       "2                  ML Engineer          25500                 US   \n",
       "3               Data Scientist         175000                 CA   \n",
       "4               Data Scientist         120000                 CA   \n",
       "...                        ...            ...                ...   \n",
       "3750            Data Scientist         412000                 US   \n",
       "3751  Principal Data Scientist         151000                 US   \n",
       "3752            Data Scientist         105000                 US   \n",
       "3753     Business Data Analyst         100000                 US   \n",
       "3754      Data Science Manager          94665                 IN   \n",
       "\n",
       "      remote_ratio company_location company_size  \n",
       "0              100               ES            L  \n",
       "1              100               US            S  \n",
       "2              100               US            S  \n",
       "3              100               CA            M  \n",
       "4              100               CA            M  \n",
       "...            ...              ...          ...  \n",
       "3750           100               US            L  \n",
       "3751           100               US            L  \n",
       "3752           100               US            S  \n",
       "3753           100               US            L  \n",
       "3754            50               IN            L  \n",
       "\n",
       "[3755 rows x 9 columns]"
      ]
     },
     "execution_count": 52,
     "metadata": {},
     "output_type": "execute_result"
    }
   ],
   "source": [
    "# Replace the value of the columns inside experience Level\n",
    "df['experience_level'].replace('SE','Senior Level/Expert', inplace = True)\n",
    "df['experience_level'].replace('MI','Medium Level/Intermediate', inplace = True)\n",
    "df['experience_level'].replace('EN','Entry Level', inplace = True)\n",
    "df['experience_level'].replace('EX','Executive Level', inplace = True)\n",
    "df"
   ]
  },
  {
   "cell_type": "markdown",
   "id": "196a6545",
   "metadata": {},
   "source": [
    "# Data Analysis"
   ]
  },
  {
   "cell_type": "markdown",
   "id": "44d7d8c0",
   "metadata": {},
   "source": [
    "### Making Inconsistent Data into Consistent Data of Job_title"
   ]
  },
  {
   "cell_type": "code",
   "execution_count": 53,
   "id": "1e7248d2",
   "metadata": {},
   "outputs": [],
   "source": [
    "#  Define lists categorizing with Each list contains specific job titles related to the respective category\n",
    "\n",
    "# ---------------------Data-------------------------\n",
    "data_analyst = ['Data Analyst','Data Quality Analyst','Compliance Data Analyst', 'Data Analytics Manager','Business Data Analyst','Staff Data Analyst','Lead Data Analyst','Financial Data Analyst','Insight Analyst','Product Data Analyst','Data Analytics Lead','Data Analytics Consultant','Marketing Data Analyst', 'Principle Data Analyst','Finance Data Analyst']\n",
    "\n",
    "data_science = ['Data Science Manager','Director of Data Science','Data Science Lead','Data Science Consultant','Head of Data Science','Data Science Engineer','Data Science Tech Lead']\n",
    "\n",
    "Bi_data_analyst = ['Bi Data Analyst','Bi Analyst','Business Data Analyst']\n",
    "# ---------------------End of Data-------------------------\n",
    "\n",
    "\n",
    "# ---------------------Scientist-------------------------\n",
    "Machine_Learning_Scientist = ['Machine Learning Scientist','Deep Learning Researcher', 'Machine Learning Researcher', 'Applied Machine Learning Scientist']\n",
    "\n",
    "data_scientist = ['Principle Data Scientist','Data Scientist','Applied Data Scientist','Research Scientist','Lead Data Scientist','Data Scientist Lead','Product Data Scientist', 'Data Science Tech Lead','Data Scientist Lead','Staff Data Scientist']\n",
    "# ---------------------End of Scientist-------------------------\n",
    "\n",
    "# ---------------------Engineers-----------------------\n",
    "Data_engineer = ['Data Engineer','Deep Learning Engineer', 'Data Operations Engineer','Big Data Engineer','Azure Data Engineer','Marketing Data Engineer','Lead Data Engineer','principle Data Engineer']\n",
    "\n",
    "Machine_learning_engineer = ['ML Engineer','NLP Engineer' 'Research Engineer', 'MLOps Engineer', 'Machine Learning Research Engineer', 'Machine Learning Engineer', 'Applied Machine Learning Engineer', 'Machine Learning infrastructure Engineer', 'Machine Learning Software Engineer', 'Machine Learning Developer', 'Principle Machine Learning Engineer','Machine Learning Manager','Lead Machine Learning Engineer','Head of Machine Learning']\n",
    "\n",
    "Software_Engineer = ['software Data Engineer','Machine Learning Software Engineer','Computer Vision software Engineer']\n",
    "\n",
    "BI_engineer = ['Business Intelligence Engineer','Bi Developer']\n",
    "\n",
    "ETL_Engineer = ['ETL Engineer','ETL Developer']\n",
    "\n",
    "Computer_vision_engineer = ['Computer Vision Engineer','Computer Vision Software Engineer','3D Computer Vision Research']\n",
    "\n",
    "cloud_engineer = ['cloud Database Engineer','Cloud Data Engineer','Cloud Data Architect']\n",
    "# ---------------------End of Engineers-----------------------\n",
    "\n",
    "AI_developer = ['Ai Developer','Ai Scientist', 'Ai Programmer']"
   ]
  },
  {
   "cell_type": "code",
   "execution_count": 54,
   "id": "74c4292d",
   "metadata": {},
   "outputs": [],
   "source": [
    "# Replaces specific job titles with general categories to standardize job titles\n",
    "\n",
    "df['job_title'].replace(data_analyst, 'Data Analyst', inplace=True)\n",
    "df['job_title'].replace(Bi_data_analyst, 'Bi Data Analyst', inplace=True)\n",
    "df['job_title'].replace(Machine_Learning_Scientist, 'Machine Learning Scientist', inplace=True)\n",
    "df['job_title'].replace(data_scientist, 'Data Scientist', inplace=True)\n",
    "df['job_title'].replace(Data_engineer, 'Data Engineer', inplace=True)\n",
    "df['job_title'].replace(Machine_learning_engineer, 'Machine Learning Engineer', inplace=True)\n",
    "df['job_title'].replace(Software_Engineer, 'Software Engineer', inplace=True)\n",
    "df['job_title'].replace(BI_engineer, 'Bi Engineer', inplace=True)\n",
    "df['job_title'].replace(ETL_Engineer, 'ETL Engineer', inplace=True)\n",
    "df['job_title'].replace(Computer_vision_engineer, 'Computer Vision Engineer', inplace=True)\n",
    "df['job_title'].replace(cloud_engineer, 'Cloud Engineer', inplace=True)\n",
    "df['job_title'].replace(AI_developer, 'Ai Developer', inplace=True)"
   ]
  },
  {
   "cell_type": "code",
   "execution_count": 55,
   "id": "27b9cc18",
   "metadata": {},
   "outputs": [
    {
     "data": {
      "text/plain": [
       "array(['Principal Data Scientist', 'Machine Learning Engineer',\n",
       "       'Data Scientist', 'Applied Scientist', 'Data Analyst',\n",
       "       'Data Modeler', 'Research Engineer', 'Analytics Engineer',\n",
       "       'Bi Engineer', 'Data Strategist', 'Data Engineer',\n",
       "       'Computer Vision Engineer', 'Data Architect', 'AI Developer',\n",
       "       'ETL Engineer', 'Data DevOps Engineer', 'Head of Data',\n",
       "       'Data Science Manager', 'Data Manager',\n",
       "       'Machine Learning Scientist', 'Data Specialist',\n",
       "       'BI Data Engineer', 'Director of Data Science', 'AI Scientist',\n",
       "       'Autonomous Vehicle Technician', 'Cloud Database Engineer',\n",
       "       'Data Infrastructure Engineer', 'Software Data Engineer',\n",
       "       'AI Programmer', 'BI Developer', 'Data Science Lead', 'BI Analyst',\n",
       "       'Data Science Consultant', 'Data Analytics Specialist',\n",
       "       'Machine Learning Infrastructure Engineer', 'BI Data Analyst',\n",
       "       'Head of Data Science', 'Big Data Architect', 'Data Lead',\n",
       "       'Data Science Engineer', 'NLP Engineer', 'Manager Data Management',\n",
       "       '3D Computer Vision Researcher',\n",
       "       'Principal Machine Learning Engineer', 'Data Analytics Engineer',\n",
       "       'Data Management Specialist', 'Cloud Engineer',\n",
       "       'Data Operations Analyst', 'Power BI Developer',\n",
       "       'Principal Data Architect', 'Principal Data Analyst',\n",
       "       'Principal Data Engineer'], dtype=object)"
      ]
     },
     "execution_count": 55,
     "metadata": {},
     "output_type": "execute_result"
    }
   ],
   "source": [
    "# Returns the unique job titles where specific job titles have been replaced\n",
    "df['job_title'].unique()"
   ]
  },
  {
   "cell_type": "markdown",
   "id": "db1d3e33",
   "metadata": {},
   "source": [
    "## Write a Python program to show summary statistics of sum, mean,standard deviation, skewness, and kurtosis of any chosen variable"
   ]
  },
  {
   "cell_type": "code",
   "execution_count": 56,
   "id": "ac480657",
   "metadata": {},
   "outputs": [
    {
     "data": {
      "text/html": [
       "<div>\n",
       "<style scoped>\n",
       "    .dataframe tbody tr th:only-of-type {\n",
       "        vertical-align: middle;\n",
       "    }\n",
       "\n",
       "    .dataframe tbody tr th {\n",
       "        vertical-align: top;\n",
       "    }\n",
       "\n",
       "    .dataframe thead th {\n",
       "        text-align: right;\n",
       "    }\n",
       "</style>\n",
       "<table border=\"1\" class=\"dataframe\">\n",
       "  <thead>\n",
       "    <tr style=\"text-align: right;\">\n",
       "      <th></th>\n",
       "      <th>salary_in_usd</th>\n",
       "      <th>remote_ratio</th>\n",
       "    </tr>\n",
       "  </thead>\n",
       "  <tbody>\n",
       "    <tr>\n",
       "      <th>0</th>\n",
       "      <td>85847</td>\n",
       "      <td>100</td>\n",
       "    </tr>\n",
       "    <tr>\n",
       "      <th>1</th>\n",
       "      <td>30000</td>\n",
       "      <td>100</td>\n",
       "    </tr>\n",
       "    <tr>\n",
       "      <th>2</th>\n",
       "      <td>25500</td>\n",
       "      <td>100</td>\n",
       "    </tr>\n",
       "    <tr>\n",
       "      <th>3</th>\n",
       "      <td>175000</td>\n",
       "      <td>100</td>\n",
       "    </tr>\n",
       "    <tr>\n",
       "      <th>4</th>\n",
       "      <td>120000</td>\n",
       "      <td>100</td>\n",
       "    </tr>\n",
       "    <tr>\n",
       "      <th>...</th>\n",
       "      <td>...</td>\n",
       "      <td>...</td>\n",
       "    </tr>\n",
       "    <tr>\n",
       "      <th>3750</th>\n",
       "      <td>412000</td>\n",
       "      <td>100</td>\n",
       "    </tr>\n",
       "    <tr>\n",
       "      <th>3751</th>\n",
       "      <td>151000</td>\n",
       "      <td>100</td>\n",
       "    </tr>\n",
       "    <tr>\n",
       "      <th>3752</th>\n",
       "      <td>105000</td>\n",
       "      <td>100</td>\n",
       "    </tr>\n",
       "    <tr>\n",
       "      <th>3753</th>\n",
       "      <td>100000</td>\n",
       "      <td>100</td>\n",
       "    </tr>\n",
       "    <tr>\n",
       "      <th>3754</th>\n",
       "      <td>94665</td>\n",
       "      <td>50</td>\n",
       "    </tr>\n",
       "  </tbody>\n",
       "</table>\n",
       "<p>3755 rows × 2 columns</p>\n",
       "</div>"
      ],
      "text/plain": [
       "      salary_in_usd  remote_ratio\n",
       "0             85847           100\n",
       "1             30000           100\n",
       "2             25500           100\n",
       "3            175000           100\n",
       "4            120000           100\n",
       "...             ...           ...\n",
       "3750         412000           100\n",
       "3751         151000           100\n",
       "3752         105000           100\n",
       "3753         100000           100\n",
       "3754          94665            50\n",
       "\n",
       "[3755 rows x 2 columns]"
      ]
     },
     "execution_count": 56,
     "metadata": {},
     "output_type": "execute_result"
    }
   ],
   "source": [
    "# Creates a new DataFrame df2 by dropping specific columns\n",
    "df2 = df.drop(columns = ['work_year', 'experience_level', 'employment_type', 'job_title', 'employee_residence', 'company_location', 'company_size'])\n",
    "df2"
   ]
  },
  {
   "cell_type": "code",
   "execution_count": 57,
   "id": "5b541f48",
   "metadata": {},
   "outputs": [
    {
     "data": {
      "text/plain": [
       "salary_in_usd    137570.389880\n",
       "remote_ratio         46.271638\n",
       "dtype: float64"
      ]
     },
     "execution_count": 57,
     "metadata": {},
     "output_type": "execute_result"
    }
   ],
   "source": [
    "# Computes the mean value\n",
    "df2.mean()"
   ]
  },
  {
   "cell_type": "code",
   "execution_count": 58,
   "id": "2d4b4d3c",
   "metadata": {},
   "outputs": [
    {
     "data": {
      "text/plain": [
       "salary_in_usd    516576814\n",
       "remote_ratio        173750\n",
       "dtype: int64"
      ]
     },
     "execution_count": 58,
     "metadata": {},
     "output_type": "execute_result"
    }
   ],
   "source": [
    "# Computes the sum value\n",
    "df2.sum()"
   ]
  },
  {
   "cell_type": "code",
   "execution_count": 59,
   "id": "3009fea0",
   "metadata": {},
   "outputs": [
    {
     "data": {
      "text/plain": [
       "salary_in_usd    0.536401\n",
       "remote_ratio     0.149454\n",
       "dtype: float64"
      ]
     },
     "execution_count": 59,
     "metadata": {},
     "output_type": "execute_result"
    }
   ],
   "source": [
    "# Computes the Skew value\n",
    "df2.skew()"
   ]
  },
  {
   "cell_type": "code",
   "execution_count": 60,
   "id": "c09aa808",
   "metadata": {},
   "outputs": [
    {
     "data": {
      "text/plain": [
       "salary_in_usd    63055.625278\n",
       "remote_ratio        48.589050\n",
       "dtype: float64"
      ]
     },
     "execution_count": 60,
     "metadata": {},
     "output_type": "execute_result"
    }
   ],
   "source": [
    "# Computes the Standard deviation value\n",
    "df2.std()"
   ]
  },
  {
   "cell_type": "code",
   "execution_count": 61,
   "id": "8ea37e24",
   "metadata": {},
   "outputs": [
    {
     "data": {
      "text/plain": [
       "salary_in_usd    0.834006\n",
       "remote_ratio    -1.925036\n",
       "dtype: float64"
      ]
     },
     "execution_count": 61,
     "metadata": {},
     "output_type": "execute_result"
    }
   ],
   "source": [
    "# Computes the Kurtosis value\n",
    "df2.kurt()"
   ]
  },
  {
   "cell_type": "code",
   "execution_count": 62,
   "id": "9a5ca4f2",
   "metadata": {},
   "outputs": [
    {
     "data": {
      "text/html": [
       "<div>\n",
       "<style scoped>\n",
       "    .dataframe tbody tr th:only-of-type {\n",
       "        vertical-align: middle;\n",
       "    }\n",
       "\n",
       "    .dataframe tbody tr th {\n",
       "        vertical-align: top;\n",
       "    }\n",
       "\n",
       "    .dataframe thead th {\n",
       "        text-align: right;\n",
       "    }\n",
       "</style>\n",
       "<table border=\"1\" class=\"dataframe\">\n",
       "  <thead>\n",
       "    <tr style=\"text-align: right;\">\n",
       "      <th></th>\n",
       "      <th>salary_in_usd</th>\n",
       "      <th>remote_ratio</th>\n",
       "    </tr>\n",
       "  </thead>\n",
       "  <tbody>\n",
       "    <tr>\n",
       "      <th>count</th>\n",
       "      <td>3755.000000</td>\n",
       "      <td>3755.000000</td>\n",
       "    </tr>\n",
       "    <tr>\n",
       "      <th>mean</th>\n",
       "      <td>137570.389880</td>\n",
       "      <td>46.271638</td>\n",
       "    </tr>\n",
       "    <tr>\n",
       "      <th>std</th>\n",
       "      <td>63055.625278</td>\n",
       "      <td>48.589050</td>\n",
       "    </tr>\n",
       "    <tr>\n",
       "      <th>min</th>\n",
       "      <td>5132.000000</td>\n",
       "      <td>0.000000</td>\n",
       "    </tr>\n",
       "    <tr>\n",
       "      <th>25%</th>\n",
       "      <td>95000.000000</td>\n",
       "      <td>0.000000</td>\n",
       "    </tr>\n",
       "    <tr>\n",
       "      <th>50%</th>\n",
       "      <td>135000.000000</td>\n",
       "      <td>0.000000</td>\n",
       "    </tr>\n",
       "    <tr>\n",
       "      <th>75%</th>\n",
       "      <td>175000.000000</td>\n",
       "      <td>100.000000</td>\n",
       "    </tr>\n",
       "    <tr>\n",
       "      <th>max</th>\n",
       "      <td>450000.000000</td>\n",
       "      <td>100.000000</td>\n",
       "    </tr>\n",
       "  </tbody>\n",
       "</table>\n",
       "</div>"
      ],
      "text/plain": [
       "       salary_in_usd  remote_ratio\n",
       "count    3755.000000   3755.000000\n",
       "mean   137570.389880     46.271638\n",
       "std     63055.625278     48.589050\n",
       "min      5132.000000      0.000000\n",
       "25%     95000.000000      0.000000\n",
       "50%    135000.000000      0.000000\n",
       "75%    175000.000000    100.000000\n",
       "max    450000.000000    100.000000"
      ]
     },
     "execution_count": 62,
     "metadata": {},
     "output_type": "execute_result"
    }
   ],
   "source": [
    "# calculate various summary Statistics\n",
    "df2.describe()"
   ]
  },
  {
   "cell_type": "markdown",
   "id": "9d5d307b",
   "metadata": {},
   "source": [
    "###### As everything in df.describe is not leaded, so few have to done manually"
   ]
  },
  {
   "cell_type": "markdown",
   "id": "9ced5f13",
   "metadata": {},
   "source": [
    "## Write a Python program to calculate and show correlation of all variables"
   ]
  },
  {
   "cell_type": "code",
   "execution_count": 63,
   "id": "7eb7123b",
   "metadata": {},
   "outputs": [
    {
     "data": {
      "text/html": [
       "<div>\n",
       "<style scoped>\n",
       "    .dataframe tbody tr th:only-of-type {\n",
       "        vertical-align: middle;\n",
       "    }\n",
       "\n",
       "    .dataframe tbody tr th {\n",
       "        vertical-align: top;\n",
       "    }\n",
       "\n",
       "    .dataframe thead th {\n",
       "        text-align: right;\n",
       "    }\n",
       "</style>\n",
       "<table border=\"1\" class=\"dataframe\">\n",
       "  <thead>\n",
       "    <tr style=\"text-align: right;\">\n",
       "      <th></th>\n",
       "      <th>salary_in_usd</th>\n",
       "      <th>remote_ratio</th>\n",
       "    </tr>\n",
       "  </thead>\n",
       "  <tbody>\n",
       "    <tr>\n",
       "      <th>salary_in_usd</th>\n",
       "      <td>1.000000</td>\n",
       "      <td>-0.064171</td>\n",
       "    </tr>\n",
       "    <tr>\n",
       "      <th>remote_ratio</th>\n",
       "      <td>-0.064171</td>\n",
       "      <td>1.000000</td>\n",
       "    </tr>\n",
       "  </tbody>\n",
       "</table>\n",
       "</div>"
      ],
      "text/plain": [
       "               salary_in_usd  remote_ratio\n",
       "salary_in_usd       1.000000     -0.064171\n",
       "remote_ratio       -0.064171      1.000000"
      ]
     },
     "execution_count": 63,
     "metadata": {},
     "output_type": "execute_result"
    }
   ],
   "source": [
    "# Computes the correlation matrix\n",
    "df2.corr()"
   ]
  },
  {
   "cell_type": "markdown",
   "id": "eed0044a",
   "metadata": {},
   "source": [
    "# Data Exploration"
   ]
  },
  {
   "cell_type": "markdown",
   "id": "b3d81bdc",
   "metadata": {},
   "source": [
    "## Write a python program to find out top 15 jobs. Make a bar graph of sales as well"
   ]
  },
  {
   "cell_type": "code",
   "execution_count": 78,
   "id": "8b6d00b2",
   "metadata": {},
   "outputs": [
    {
     "data": {
      "text/plain": [
       "job_title\n",
       "Data Engineer                 1075\n",
       "Data Scientist                 946\n",
       "Data Analyst                   680\n",
       "Machine Learning Engineer      357\n",
       "Analytics Engineer             103\n",
       "Data Architect                 101\n",
       "Data Science Manager            58\n",
       "Applied Scientist               58\n",
       "Machine Learning Scientist      45\n",
       "Research Engineer               37\n",
       "Data Manager                    29\n",
       "Data Science Consultant         24\n",
       "Computer Vision Engineer        23\n",
       "AI Scientist                    16\n",
       "BI Data Analyst                 15\n",
       "Name: count, dtype: int64"
      ]
     },
     "execution_count": 78,
     "metadata": {},
     "output_type": "execute_result"
    }
   ],
   "source": [
    "# Computes the top 15 most common job titles and store in variable top_15_jobs\n",
    "top_15_jobs = df['job_title'].value_counts().nlargest(15)\n",
    "top_15_jobs"
   ]
  },
  {
   "cell_type": "code",
   "execution_count": 81,
   "id": "2405ecb4",
   "metadata": {},
   "outputs": [
    {
     "data": {
      "image/png": "[encoded data removed]",
      "text/plain": [
       "<Figure size 1000x900 with 1 Axes>"
      ]
     },
     "metadata": {},
     "output_type": "display_data"
    }
   ],
   "source": [
    "colors = ['red', 'blue', 'green', 'yellow', 'magenta', 'maroon', 'lime', 'cyan', 'olive', 'purple', 'black', 'gray', 'pink', 'brown', 'violet']\n",
    "\n",
    "plt.figure(figsize=(10,9))\n",
    "bars = plt.bar(top_15_jobs.index, top_15_jobs, color=colors)\n",
    "\n",
    "plt.bar_label(bars, fmt='%d')\n",
    "\n",
    "plt.xlabel('Jobs')\n",
    "plt.ylabel('Count')\n",
    "plt.title('Top 15 Jobs')\n",
    "\n",
    "plt.xticks([])\n",
    "\n",
    "legend_labels = dict(zip(top_15_jobs.index, colors))\n",
    "legend_handles = [plt.Rectangle((0,0),1,1, color=color) for color in colors]\n",
    "plt.legend(legend_handles, legend_labels.keys(), loc='upper right')\n",
    "\n",
    "plt.show()"
   ]
  },
  {
   "cell_type": "markdown",
   "id": "8e0de672",
   "metadata": {},
   "source": [
    "## Which job has the highest salaries? Illustrate with bar graph."
   ]
  },
  {
   "cell_type": "code",
   "execution_count": 82,
   "id": "5a87ed00",
   "metadata": {},
   "outputs": [
    {
     "data": {
      "text/plain": [
       "job_title\n",
       "Data Lead                              212500.000000\n",
       "Principal Data Scientist               198171.125000\n",
       "Director of Data Science               195140.727273\n",
       "Principal Data Engineer                192500.000000\n",
       "Data Science Manager                   191278.775862\n",
       "Applied Scientist                      190264.482759\n",
       "Principal Machine Learning Engineer    190000.000000\n",
       "Head of Data                           183857.500000\n",
       "Data Infrastructure Engineer           175051.666667\n",
       "Bi Engineer                            174150.000000\n",
       "Research Engineer                      163108.378378\n",
       "Data Architect                         161713.772277\n",
       "Head of Data Science                   160591.666667\n",
       "Data Science Lead                      156334.375000\n",
       "Cloud Database Engineer                155000.000000\n",
       "Name: salary_in_usd, dtype: float64"
      ]
     },
     "execution_count": 82,
     "metadata": {},
     "output_type": "execute_result"
    }
   ],
   "source": [
    "# Computes the job title and salary in usd and store in variable Highest_salary_in_jobs\n",
    "\n",
    "Highest_salary_in_jobs = df.groupby('job_title')['salary_in_usd'].mean().sort_values(ascending=False).head(15)\n",
    "Highest_salary_in_jobs"
   ]
  },
  {
   "cell_type": "code",
   "execution_count": 83,
   "id": "dfeeeb3d",
   "metadata": {},
   "outputs": [
    {
     "data": {
      "image/png": "[encoded data removed]",
      "text/plain": [
       "<Figure size 1000x900 with 1 Axes>"
      ]
     },
     "metadata": {},
     "output_type": "display_data"
    }
   ],
   "source": [
    "# Visualizes the top 15 job titles with the highest average salaries using a bar chart.\n",
    "colors = ['red', 'blue', 'green', 'yellow', 'magenta', 'maroon', 'lime', 'cyan', 'olive', 'purple', 'black', 'gray', 'pink', 'brown', 'violet']\n",
    "\n",
    "plt.figure(figsize=(10,9))\n",
    "bars = plt.bar(top_15_jobs.index, top_15_jobs, color=colors)\n",
    "\n",
    "plt.bar_label(bars, fmt='%d')\n",
    "\n",
    "plt.xlabel('Jobs')\n",
    "plt.ylabel('Count')\n",
    "plt.title('Top 15 Jobs')\n",
    "\n",
    "plt.xticks([])\n",
    "\n",
    "legend_labels = dict(zip(top_15_jobs.index, colors))\n",
    "legend_handles = [plt.Rectangle((0,0),1,1, color=color) for color in colors]\n",
    "plt.legend(legend_handles, legend_labels.keys(), loc='upper right')\n",
    "\n",
    "plt.show()"
   ]
  },
  {
   "cell_type": "markdown",
   "id": "a9d7ed57",
   "metadata": {},
   "source": [
    "## Write a python program to find out salaries based on experience level. Illustrate it through bar graph"
   ]
  },
  {
   "cell_type": "code",
   "execution_count": 84,
   "id": "2d92e244",
   "metadata": {},
   "outputs": [
    {
     "data": {
      "text/html": [
       "<div>\n",
       "<style scoped>\n",
       "    .dataframe tbody tr th:only-of-type {\n",
       "        vertical-align: middle;\n",
       "    }\n",
       "\n",
       "    .dataframe tbody tr th {\n",
       "        vertical-align: top;\n",
       "    }\n",
       "\n",
       "    .dataframe thead th {\n",
       "        text-align: right;\n",
       "    }\n",
       "</style>\n",
       "<table border=\"1\" class=\"dataframe\">\n",
       "  <thead>\n",
       "    <tr style=\"text-align: right;\">\n",
       "      <th></th>\n",
       "      <th>experience_level</th>\n",
       "      <th>salary_in_usd</th>\n",
       "    </tr>\n",
       "  </thead>\n",
       "  <tbody>\n",
       "    <tr>\n",
       "      <th>0</th>\n",
       "      <td>Entry Level</td>\n",
       "      <td>78546.284375</td>\n",
       "    </tr>\n",
       "    <tr>\n",
       "      <th>1</th>\n",
       "      <td>Medium Level/Intermediate</td>\n",
       "      <td>104525.939130</td>\n",
       "    </tr>\n",
       "    <tr>\n",
       "      <th>2</th>\n",
       "      <td>Senior Level/Expert</td>\n",
       "      <td>153051.071542</td>\n",
       "    </tr>\n",
       "    <tr>\n",
       "      <th>3</th>\n",
       "      <td>Executive Level</td>\n",
       "      <td>194930.929825</td>\n",
       "    </tr>\n",
       "  </tbody>\n",
       "</table>\n",
       "</div>"
      ],
      "text/plain": [
       "            experience_level  salary_in_usd\n",
       "0                Entry Level   78546.284375\n",
       "1  Medium Level/Intermediate  104525.939130\n",
       "2        Senior Level/Expert  153051.071542\n",
       "3            Executive Level  194930.929825"
      ]
     },
     "execution_count": 84,
     "metadata": {},
     "output_type": "execute_result"
    }
   ],
   "source": [
    "# Calculates the average salary for each experience level in the DataFrame df,groups them accordingly\n",
    "exp_pay = df.groupby('experience_level')['salary_in_usd'].mean().sort_values(ascending=True).reset_index()\n",
    "exp_pay"
   ]
  },
  {
   "cell_type": "code",
   "execution_count": 85,
   "id": "e45e2b7e",
   "metadata": {},
   "outputs": [
    {
     "data": {
      "image/png": "[encoded data removed]",
      "text/plain": [
       "<Figure size 500x900 with 1 Axes>"
      ]
     },
     "metadata": {},
     "output_type": "display_data"
    }
   ],
   "source": [
    "# Visualizes the average salary based on different experience levels using a bar chart.\n",
    "colors = ['red', 'blue', 'green', 'yellow']\n",
    "\n",
    "plt.figure(figsize=(5, 9))\n",
    "bars = plt.bar(exp_pay.index, exp_pay['salary_in_usd'], color=colors)\n",
    "\n",
    "plt.bar_label(bars, fmt='%d')\n",
    "\n",
    "plt.xlabel('Experience Levels')\n",
    "plt.ylabel('Average Salary (USD)')\n",
    "plt.title(\"Salary Based on Experience\")\n",
    "plt.xticks([])\n",
    "\n",
    "legend_labels = dict(zip(exp_pay['experience_level'], colors))\n",
    "legend_handles = [plt.Rectangle((0, 0), 1, 1, color=color) for color in colors]\n",
    "plt.legend(legend_handles, legend_labels.keys(), loc='upper left')\n",
    "\n",
    "plt.show()\n"
   ]
  },
  {
   "cell_type": "markdown",
   "id": "b5b78697",
   "metadata": {},
   "source": [
    "## Write a Python program to show histogram and box plot of any chosen different variables. Use proper labels in the graph"
   ]
  },
  {
   "cell_type": "code",
   "execution_count": 86,
   "id": "0b0b3e83",
   "metadata": {},
   "outputs": [
    {
     "data": {
      "image/png": "[encoded data removed]",
      "text/plain": [
       "<Figure size 900x500 with 1 Axes>"
      ]
     },
     "metadata": {},
     "output_type": "display_data"
    }
   ],
   "source": [
    "# Visualizes the distribution of salaries in USD using a histogram.\n",
    "plt.figure(figsize=(9, 5))\n",
    "sns.histplot(data=df, x='salary_in_usd', kde=True, color='cyan')\n",
    "plt.title('Histogram of salary_in_usd')\n",
    "plt.xlabel('salary_in_usd')\n",
    "plt.ylabel('Level')\n",
    "plt.show()"
   ]
  },
  {
   "cell_type": "code",
   "execution_count": 32,
   "id": "377ac6ac",
   "metadata": {},
   "outputs": [
    {
     "data": {
      "image/png": "[encoded data removed]",
      "text/plain": [
       "<Figure size 900x500 with 1 Axes>"
      ]
     },
     "metadata": {},
     "output_type": "display_data"
    }
   ],
   "source": [
    "# Visualizes the distribution of salaries by experience level using a box plot.\n",
    "\n",
    "plt.figure(figsize=(9, 5))\n",
    "sns.boxplot(data=df, x='salary_in_usd', y='experience_level', palette='Set2')\n",
    "\n",
    "plt.title('Box Plot of ' + 'salary_in_usd' + ' by ' + 'experience_level')\n",
    "plt.xlabel('experience_level')\n",
    "plt.ylabel('salary_in_usd')\n",
    "plt.yticks([])\n",
    "\n",
    "plt.show()"
   ]
  }
 ],
 "metadata": {
  "kernelspec": {
   "display_name": "Python 3 (ipykernel)",
   "language": "python",
   "name": "python3"
  },
  "language_info": {
   "codemirror_mode": {
    "name": "ipython",
    "version": 3
   },
   "file_extension": ".py",
   "mimetype": "text/x-python",
   "name": "python",
   "nbconvert_exporter": "python",
   "pygments_lexer": "ipython3",
   "version": "3.11.5"
  }
 },
 "nbformat": 4,
 "nbformat_minor": 5
}
